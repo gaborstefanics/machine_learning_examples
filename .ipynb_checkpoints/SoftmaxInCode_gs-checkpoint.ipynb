{
 "cells": [
  {
   "cell_type": "markdown",
   "metadata": {},
   "source": [
    "### Softmax In Code"
   ]
  },
  {
   "cell_type": "code",
   "execution_count": 1,
   "metadata": {},
   "outputs": [],
   "source": [
    "import numpy as np"
   ]
  },
  {
   "cell_type": "code",
   "execution_count": 4,
   "metadata": {},
   "outputs": [
    {
     "data": {
      "text/plain": [
       "array([-1.07546007, -0.23669375,  1.05303844,  0.56347944,  1.64635017])"
      ]
     },
     "execution_count": 4,
     "metadata": {},
     "output_type": "execute_result"
    }
   ],
   "source": [
    "a = np.random.randn(5)\n",
    "a"
   ]
  },
  {
   "cell_type": "code",
   "execution_count": 5,
   "metadata": {},
   "outputs": [
    {
     "data": {
      "text/plain": [
       "array([0.34114077, 0.78923295, 2.86634712, 1.75677446, 5.18800986])"
      ]
     },
     "execution_count": 5,
     "metadata": {},
     "output_type": "execute_result"
    }
   ],
   "source": [
    "expa = np.exp(a)\n",
    "expa"
   ]
  },
  {
   "cell_type": "code",
   "execution_count": 7,
   "metadata": {},
   "outputs": [
    {
     "data": {
      "text/plain": [
       "1.0"
      ]
     },
     "execution_count": 7,
     "metadata": {},
     "output_type": "execute_result"
    }
   ],
   "source": [
    "answer = expa / expa.sum()\n",
    "answer.sum()"
   ]
  },
  {
   "cell_type": "code",
   "execution_count": 9,
   "metadata": {},
   "outputs": [
    {
     "data": {
      "text/plain": [
       "array([[-1.17287596,  0.60932906, -0.79406848,  0.81212436,  0.6916849 ],\n",
       "       [-1.36320326,  2.26192192,  3.34007657,  0.03907419,  1.9011638 ],\n",
       "       [-0.72855737, -0.40639327,  0.77645226,  0.62792396,  0.92064646],\n",
       "       [ 1.7132614 , -0.02530841,  0.9131926 , -0.09216982,  0.06249139],\n",
       "       [-1.95313795,  0.19883613,  1.60634542, -2.26589776, -0.47656025],\n",
       "       [ 0.94063023, -0.27269224, -0.16223974, -1.26257883, -0.1972316 ],\n",
       "       [-0.80068024, -0.10301069,  2.31279046,  2.13300191, -0.01283855],\n",
       "       [-0.13093408,  0.47178595, -1.750497  ,  1.25272516,  3.04720446],\n",
       "       [-0.05452275,  0.60318729,  0.77244403, -0.33498826,  0.07263492]])"
      ]
     },
     "execution_count": 9,
     "metadata": {},
     "output_type": "execute_result"
    }
   ],
   "source": [
    "A = np.random.randn(100, 5)\n",
    "A[1:10,:]"
   ]
  },
  {
   "cell_type": "code",
   "execution_count": 10,
   "metadata": {},
   "outputs": [
    {
     "data": {
      "text/plain": [
       "array([[ 0.30947562,  1.839197  ,  0.45200209,  2.25268844,  1.99707758],\n",
       "       [ 0.25583994,  9.60152484, 28.22128754,  1.03984763,  6.69368003],\n",
       "       [ 0.48260471,  0.66604818,  2.17374669,  1.87371662,  2.51091307],\n",
       "       [ 5.54702309,  0.97500917,  2.49226665,  0.91195027,  1.06448529],\n",
       "       [ 0.14182832,  1.21998203,  4.98456142,  0.10373686,  0.62091551],\n",
       "       [ 2.56159531,  0.76132706,  0.85023735,  0.28292347,  0.82100046],\n",
       "       [ 0.44902341,  0.90211733, 10.1025762 ,  8.4401654 ,  0.98724351],\n",
       "       [ 0.8772756 ,  1.60285426,  0.1736876 ,  3.49986769, 21.05639816],\n",
       "       [ 0.94693697,  1.82793569,  2.16505125,  0.71534648,  1.07533788]])"
      ]
     },
     "execution_count": 10,
     "metadata": {},
     "output_type": "execute_result"
    }
   ],
   "source": [
    "expA = np.exp(A)\n",
    "expA[1:10,:]"
   ]
  },
  {
   "cell_type": "code",
   "execution_count": 14,
   "metadata": {},
   "outputs": [
    {
     "data": {
      "text/plain": [
       "array([1., 1., 1., 1., 1., 1., 1., 1., 1., 1., 1., 1., 1., 1., 1., 1., 1.,\n",
       "       1., 1., 1., 1., 1., 1., 1., 1., 1., 1., 1., 1., 1., 1., 1., 1., 1.,\n",
       "       1., 1., 1., 1., 1., 1., 1., 1., 1., 1., 1., 1., 1., 1., 1., 1., 1.,\n",
       "       1., 1., 1., 1., 1., 1., 1., 1., 1., 1., 1., 1., 1., 1., 1., 1., 1.,\n",
       "       1., 1., 1., 1., 1., 1., 1., 1., 1., 1., 1., 1., 1., 1., 1., 1., 1.,\n",
       "       1., 1., 1., 1., 1., 1., 1., 1., 1., 1., 1., 1., 1., 1., 1.])"
      ]
     },
     "execution_count": 14,
     "metadata": {},
     "output_type": "execute_result"
    }
   ],
   "source": [
    "answer = expA / expA.sum(axis=1, keepdims=True)\n",
    "answer.sum(axis=1)"
   ]
  },
  {
   "cell_type": "code",
   "execution_count": 16,
   "metadata": {},
   "outputs": [
    {
     "data": {
      "text/plain": [
       "(100, 1)"
      ]
     },
     "execution_count": 16,
     "metadata": {},
     "output_type": "execute_result"
    }
   ],
   "source": [
    "expA.sum(axis=1, keepdims=True).shape"
   ]
  }
 ],
 "metadata": {
  "kernelspec": {
   "display_name": "Python 3",
   "language": "python",
   "name": "python3"
  },
  "language_info": {
   "codemirror_mode": {
    "name": "ipython",
    "version": 3
   },
   "file_extension": ".py",
   "mimetype": "text/x-python",
   "name": "python",
   "nbconvert_exporter": "python",
   "pygments_lexer": "ipython3",
   "version": "3.7.6"
  }
 },
 "nbformat": 4,
 "nbformat_minor": 4
}
